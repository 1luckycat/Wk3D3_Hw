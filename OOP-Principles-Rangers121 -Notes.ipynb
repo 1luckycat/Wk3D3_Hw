{
 "cells": [
  {
   "cell_type": "markdown",
   "metadata": {},
   "source": [
    " <h1 align = center> Principles of Object Oriented Programming </h1>"
   ]
  },
  {
   "cell_type": "markdown",
   "metadata": {},
   "source": [
    "#### 4 principles\n",
    "- Encapsulation\n",
    "- Abstraction\n",
    "- Inheritance\n",
    "- Polymorphism\n"
   ]
  },
  {
   "cell_type": "markdown",
   "metadata": {},
   "source": [
    "## 1 ENCAPSULATION"
   ]
  },
  {
   "cell_type": "markdown",
   "metadata": {},
   "source": [
    "In encapsulation, the variables of a class can be made hidden from other classes, and can be accessed only through the methods of their current class. Therefore, it is also known as data hiding.\n",
    "<br><br>\n",
    "Encapsulation can be described as a protective barrier that prevents the code and data being randomly accessed by other code defined outside the class. Access to the data and code is tightly controlled by a class."
   ]
  },
  {
   "cell_type": "code",
   "execution_count": 11,
   "metadata": {},
   "outputs": [],
   "source": [
    "from datetime import timedelta, date\n",
    "from IPython.display import Image\n",
    "import requests\n",
    "from time import sleep\n",
    "\n",
    "generic_image = 'codeflix.png'\n"
   ]
  },
  {
   "cell_type": "code",
   "execution_count": 5,
   "metadata": {},
   "outputs": [
    {
     "name": "stdout",
     "output_type": "stream",
     "text": [
      "Cool Video Title\n"
     ]
    },
    {
     "name": "stdin",
     "output_type": "stream",
     "text": [
      "What are you watching?  Takoma FD\n"
     ]
    },
    {
     "name": "stdout",
     "output_type": "stream",
     "text": [
      "You are currently watching: Cool Video Title, now you're watching Takoma FD\n",
      "You are watching: Takoma FD\n"
     ]
    }
   ],
   "source": [
    "class TestVideo():\n",
    "    def __init__(self):\n",
    "        self.title = None\n",
    "\n",
    "    def add_title(self):\n",
    "        new_title = input(\"What are you watching? \")\n",
    "        print(f\"You are currently watching: {self.title}, now you're watching {new_title}\")\n",
    "        self.title = new_title\n",
    "        self.display_title()    #<-----putting a method in another method\n",
    "\n",
    "    def display_title(self):\n",
    "        print(f\"You are watching: {self.title}\")\n",
    "\n",
    "\n",
    "\n",
    "my_video = TestVideo()\n",
    "my_video.title = \"Cool Video Title\"\n",
    "print(my_video.title)\n",
    "my_video.add_title()\n",
    "\n",
    "\n",
    "# Not a good practice\n",
    "# my_video.title = \"New Video TItle\"\n",
    "\n"
   ]
  },
  {
   "cell_type": "code",
   "execution_count": null,
   "metadata": {},
   "outputs": [],
   "source": [
    "my_video.add_title()"
   ]
  },
  {
   "cell_type": "code",
   "execution_count": null,
   "metadata": {},
   "outputs": [],
   "source": [
    "my_video.add_title()"
   ]
  },
  {
   "cell_type": "code",
   "execution_count": null,
   "metadata": {},
   "outputs": [],
   "source": [
    "#  EXAMPLE \n",
    "\n",
    "# # attributes from instances are unique to that instance\n",
    "# # attributes are \"protected\" by the class itself and can have further protection at various levels based on access modifiers\n",
    "# class Video:\n",
    "#     def __init__(self, title):\n",
    "#         self.title = title\n",
    "#         self.length = timedelta()\n",
    "#         self.link = generic_image\n",
    "\n",
    "#     def play(self):\n",
    "#         print(f\"Now playing {self.title}\")\n",
    "#         display(Image(url=self.link))\n",
    "\n",
    "#     def __len__(self):\n",
    "#         return self.length\n",
    "\n",
    "#     def __repr__(self):\n",
    "#         return f\"{self.title} is {self.length.seconds} seconds long\""
   ]
  },
  {
   "cell_type": "code",
   "execution_count": null,
   "metadata": {},
   "outputs": [],
   "source": [
    "# # Episode inherits from Video class\n",
    "# class Episode(Video):\n",
    "#     def __init__(self, title, data = \"\"):\n",
    "#         super().__init__(title)\n",
    "#         super().play()\n",
    "#         print(\"example of the init method being called and printing something when i isntantiate\")\n",
    "\n",
    "# my_episode = Episode(\"My First Day\")"
   ]
  },
  {
   "cell_type": "code",
   "execution_count": null,
   "metadata": {},
   "outputs": [],
   "source": []
  },
  {
   "cell_type": "code",
   "execution_count": 12,
   "metadata": {},
   "outputs": [],
   "source": [
    "# attributes from instances are unique to that instance\n",
    "# attributes are \"protected\" by the class itself and can have further protection at various levels based on access modifiers\n",
    "class Video:\n",
    "    def __init_(self):\n",
    "        self.title = None\n",
    "        self.length = timedelta()\n",
    "        self.link = generic_image\n",
    "\n",
    "    def play(self):\n",
    "        print(f\"Now playing {self.title}\")\n",
    "        display(Image(url=self.link))\n",
    "\n",
    "    def __len__(self):\n",
    "        return self.length\n",
    "\n",
    "    def __repr__(self):\n",
    "        return f\"{self.title} is {self.length.seconds} seconds long.\"\n",
    "\n",
    "    \n",
    "    "
   ]
  },
  {
   "cell_type": "markdown",
   "metadata": {},
   "source": [
    "## 3 INHERITANCE"
   ]
  },
  {
   "cell_type": "markdown",
   "metadata": {},
   "source": [
    "Inheritance can be defined as the process where one class acquires the properties (methods and fields) of another.\n",
    "<br>\n",
    "<i>(see above)</i>"
   ]
  },
  {
   "cell_type": "code",
   "execution_count": 13,
   "metadata": {},
   "outputs": [],
   "source": [
    "# Episode inherits from Video class\n",
    "class Episode(Video):\n",
    "    def __init__(self, data):\n",
    "        super().__init__()\n",
    "        self.number = data[\"number\"]\n",
    "        self.season = data[\"season\"]\n",
    "        self.date_aired = data[\"airdate\"]\n",
    "        self.summary = data[\"summary\"]\n",
    "        self.rating = data[\"rating\"][\"average\"]\n",
    "        self.title = data[\"name\"]\n",
    "        self.length = timedelta(minutes = data[\"runtime\"])\n",
    "        if data[\"image\"]:\n",
    "            self.link = data[\"image\"][\"medium\"]\n",
    "\n"
   ]
  },
  {
   "cell_type": "markdown",
   "metadata": {},
   "source": [
    "## 4 POLYMORPHISM"
   ]
  },
  {
   "cell_type": "markdown",
   "metadata": {},
   "source": [
    "In object-oriented programming, polymorphism (from the Greek meaning “having multiple forms”) is the characteristic of being able to assign a different meaning or usage to something in different contexts — specifically, to allow an entity such as a function, or an object to have more than one form.\n",
    "<br><br>\n"
   ]
  },
  {
   "cell_type": "code",
   "execution_count": 42,
   "metadata": {},
   "outputs": [],
   "source": [
    "class Series():\n",
    "    def __init__(self):\n",
    "        self.id = None\n",
    "        self.network = None\n",
    "        self.seasons = None\n",
    "        self.summary = None\n",
    "        self.title = None\n",
    "        self.genres = []\n",
    "        self.episodes = []\n",
    "        \n",
    "\n",
    "    def get_info(self, query=\"\"):\n",
    "        data = None    # <-----in case we cant find the show we're looking for\n",
    "        while not data:     # loop as long as we dont find and set data from a series\n",
    "            if not query:     # if we dont pass a query argument\n",
    "                query = input(\"What is the name of the series? \")\n",
    "            r = requests.get(f\"https://api.tvmaze.com/singlesearch/shows?q={query}\")\n",
    "            if r.status_code == 200:\n",
    "                data = r.json()\n",
    "\n",
    "            else:\n",
    "                print(f\"Series Error:  Status Code {r.status_code}\")\n",
    "\n",
    "\n",
    "        # using data to set our attributes\n",
    "        self.id = data[\"id\"]\n",
    "        self.title = data[\"name\"]\n",
    "        self.genres = data[\"genres\"]\n",
    "        self.summary = data[\"summary\"]\n",
    "        \n",
    "        if data[\"network\"]:\n",
    "            self.network = data[\"network\"][\"name\"]\n",
    "        else:\n",
    "            self.network = data[\"webChannel\"][\"name\"]\n",
    "\n",
    "\n",
    "        # Api call for episodes\n",
    "        r = requests.get(f\"https://api.tvmaze.com/shows/{self.id}/episodes\")\n",
    "        if r.status_code == 200:\n",
    "            episode_data = r.json()\n",
    "        else:\n",
    "            print(f\"Episode Error: Status Code {r.status_code}\")\n",
    "\n",
    "\n",
    "        self.seasons = episode_data[-1][\"season\"]    # last dictionary in the episode list, which is also the last season\n",
    "        self.episodes = [Episode(ep) for ep in episode_data]   # another class as an attribute - object composition\n",
    "        print(f\"{self.title} has {len(self.episodes)} episodes\")\n",
    "\n",
    "    \n",
    "    def watch(self):\n",
    "        for i in range(len(self.episodes)):\n",
    "            if i > 0 and i % 3 == 0:\n",
    "                watching = input(\"Are you still watching? \")\n",
    "                if watching.lower().strip() not in (\"yes\", \"y\"):\n",
    "                    break\n",
    "            self.episodes[i].play()\n",
    "            sleep(self.episodes[i].length.seconds/1000)   #<--- or can do 1800\n",
    "\n",
    "    \n",
    "    def __len__(self):\n",
    "        return len(self.episodes)\n",
    "\n",
    "    \n",
    "    def __repr__(self):\n",
    "        return f\"Title: {self.title}\"\n",
    "\n"
   ]
  },
  {
   "cell_type": "code",
   "execution_count": 15,
   "metadata": {},
   "outputs": [],
   "source": [
    "first_show = Series()"
   ]
  },
  {
   "cell_type": "code",
   "execution_count": 28,
   "metadata": {},
   "outputs": [
    {
     "name": "stdin",
     "output_type": "stream",
     "text": [
      "What is the name of the series?  wheel of time\n"
     ]
    },
    {
     "name": "stdout",
     "output_type": "stream",
     "text": [
      "The Wheel of Time has 16 episodes\n"
     ]
    }
   ],
   "source": [
    "first_show.get_info()"
   ]
  },
  {
   "cell_type": "code",
   "execution_count": 29,
   "metadata": {},
   "outputs": [
    {
     "name": "stdout",
     "output_type": "stream",
     "text": [
      "Now playing Leavetaking\n"
     ]
    },
    {
     "data": {
      "text/html": [
       "<img src=\"https://static.tvmaze.com/uploads/images/medium_landscape/376/940919.jpg\"/>"
      ],
      "text/plain": [
       "<IPython.core.display.Image object>"
      ]
     },
     "metadata": {},
     "output_type": "display_data"
    },
    {
     "name": "stdout",
     "output_type": "stream",
     "text": [
      "Now playing Shadow's Waiting\n"
     ]
    },
    {
     "data": {
      "text/html": [
       "<img src=\"https://static.tvmaze.com/uploads/images/medium_landscape/376/940922.jpg\"/>"
      ],
      "text/plain": [
       "<IPython.core.display.Image object>"
      ]
     },
     "metadata": {},
     "output_type": "display_data"
    },
    {
     "name": "stdout",
     "output_type": "stream",
     "text": [
      "Now playing A Place of Safety\n"
     ]
    },
    {
     "data": {
      "text/html": [
       "<img src=\"https://static.tvmaze.com/uploads/images/medium_landscape/376/940924.jpg\"/>"
      ],
      "text/plain": [
       "<IPython.core.display.Image object>"
      ]
     },
     "metadata": {},
     "output_type": "display_data"
    },
    {
     "name": "stdin",
     "output_type": "stream",
     "text": [
      "Are you still watching?  no\n"
     ]
    }
   ],
   "source": [
    "first_show.watch()"
   ]
  },
  {
   "cell_type": "code",
   "execution_count": 43,
   "metadata": {},
   "outputs": [],
   "source": [
    "class User:\n",
    "    __id_counter = 1    # class attribute where __ makes it private, only the class itself is going to interact with\n",
    "\n",
    "    def __init__(self, username, password):\n",
    "        self.username = username\n",
    "        self.password = password[::-2]\n",
    "        self.id = User.__id_counter\n",
    "        User.__id_counter += 1\n",
    "        self.watch_list = []\n",
    "\n",
    "        \n",
    "# EXAMPLE OF HASHING A PASSWORD\n",
    "# password = \"reallycoolpassword\"\n",
    "# hashed_password = password[::-2]\n",
    "# print(hashed_password)\n",
    "\n",
    "    def __str__(self):\n",
    "        formatted_user = f\"\"\"\n",
    "        {self.id} - {self.username.title()}\n",
    "        pw: {self.password}\n",
    "        \"\"\"\n",
    "        return formatted_user\n",
    "\n",
    "    def __repr__(self):\n",
    "        return f\"<User {self.id} | {self.username}\"\n",
    "\n",
    "    def check_password(self, password_guess):\n",
    "        return self.password == password_guess[::-2]\n",
    "\n",
    "    \n"
   ]
  },
  {
   "cell_type": "markdown",
   "metadata": {},
   "source": [
    "## 2 ABSTRACTION"
   ]
  },
  {
   "cell_type": "markdown",
   "metadata": {},
   "source": [
    "Abstraction is a process of hiding the implementation details from the user, only the functionality will be provided to the user. We have a bit to do before this becomes visible. But you've seen it before with presenting the user with the option to enter inputs. We then take those input and do something with them.\n",
    "<br><br>\n"
   ]
  },
  {
   "cell_type": "code",
   "execution_count": 56,
   "metadata": {},
   "outputs": [],
   "source": [
    "from datetime import timedelta, date\n",
    "from IPython.display import Image\n",
    "import requests\n",
    "from time import sleep\n",
    "\n",
    "generic_image = 'codeflix.png'\n",
    "\n",
    "class Theater():\n",
    "    def __init__(self):\n",
    "        self.users = set()\n",
    "        self.current_user = None\n",
    "\n",
    "\n",
    "    # add a user to our collection of users\n",
    "    def add_user(self):\n",
    "        username = input(\"Please enter a username: \")\n",
    "        if username in {u.username for u in self.users}:\n",
    "            print(\"User with that name already exists.  Please try again!\")  #409, conflict in requests (code error)\n",
    "\n",
    "        else:\n",
    "            password = input(\"Please enter your password. \")\n",
    "            user = User(username, password)\n",
    "            self.users.add(user)\n",
    "            print(f\"{user} has been created!!\")\n",
    "\n",
    "        self.login_user()\n",
    "\n",
    "    # choose a user, login\n",
    "    def login_user(self):\n",
    "        username = input(\"What is your username? \")\n",
    "        password = input(\"What is your password? \")\n",
    "\n",
    "        for user in self.users:\n",
    "            if user.username == username and user.check_password(password):\n",
    "                self.current_user = user\n",
    "                print(f\"{user} has logged in!\")\n",
    "                break\n",
    "\n",
    "        else:\n",
    "            print(\"Username and/or password is incorrect.\")\n",
    "\n",
    "    def logout(self):\n",
    "        self.current_user = None\n",
    "        print(\"You have successfully logged out!\")\n",
    "        \n",
    "    # update user information\n",
    "    def update_user(self):\n",
    "        # check if we even have a current user\n",
    "        if self.current_user:\n",
    "            print(self.current_user)\n",
    "            new_user = input(\"Please enter the update username or enter skip to keep your current username. \")\n",
    "            if new_user.lower() != \"skip\":\n",
    "                #  referencing the current user object, specifically th eusername attribute\n",
    "                self.current_user.username = new_user\n",
    "            new_pw = input(\"Please enter the updated password or enter skip to keep current password. \")\n",
    "            if new_pw.lower() != \"skip\":\n",
    "                # referencing the current user object, specifically the password attribute\n",
    "                self.current_user.password = new_pw\n",
    "\n",
    "            print(f\"{self.current_user.username}'s info has been updated!\")\n",
    "        else: \n",
    "            print(\"Please login to update information.\")\n",
    "            self.login_user()\n",
    "\n",
    "\n",
    "#--------------------------------interacting with teh watchlist on the User -------------------------------------------\n",
    "\n",
    "    # add to watchlist\n",
    "    def add_to_watchlist(self, query=\"\"):\n",
    "        # instatiates the Series class\n",
    "        show = Series()\n",
    "        show.get_info(query)\n",
    "        \n",
    "        #  add our show (instance of the Series class) to the current_user object's watchlis attribute\n",
    "        self.current_user.watch_list.append(show)\n",
    "\n",
    "        print(f\"{show.title} has been added to the watchlist!\")\n",
    "\n",
    "\n",
    "    # view watchlist\n",
    "    def view_watchlist(self):\n",
    "        for series in self.current_user.watch_list:\n",
    "            print(f\"\\n\\n{series} | Episodes: {len(series)}\")\n",
    "            print(f\"\\nSummary: \\n {series.summary}\")\n",
    "            #                  instance of Series, the episodes attribute, first episode [0], link attribute from that first epd object\n",
    "            display(Image(url = series.episodes[0].link))\n",
    "\n",
    "\n",
    "    # delete from watchlist\n",
    "    def delete(self):\n",
    "        print(\"Your current watchlist: \")\n",
    "        self.view_watchlist()\n",
    "\n",
    "        response = input(\"What would you like to remove from your watchlist? \")\n",
    "        for series in self.current_user.watch_list:\n",
    "            # Series instance.title attribute. title method that capitalizes the first letter of the string\n",
    "            if series.title.title() == response.title():\n",
    "                self.current_user.watch_list.remove(series)\n",
    "                print(f\"{response.title()} has been removed from your watchlist!\")\n",
    "                break\n",
    "        else:\n",
    "            print(\"That title is not in your watchlist! \")  #404 not found message\n",
    "\n",
    "        self.view_watchlist()\n",
    "\n",
    "\n",
    "    # choose from watchlist\n",
    "    def choose_from_watchlist(self):\n",
    "        self.view_watchlist()\n",
    "\n",
    "        watch = input(\"What would you like to watch? \")\n",
    "        for series in self.current_user.watch_list:\n",
    "            if series.title.lower() == watch.lower().strip():\n",
    "                series.watch()\n",
    "                break\n",
    "        else:\n",
    "            response = input(f\"{watch} is not in your watchlist.. would you like to add it... y/n? \")\n",
    "            if response in (\"yes\", \"y\"):\n",
    "                self.add_to_watchlist(watch)\n",
    "                print(\"..........\")\n",
    "                sleep(2)\n",
    "                print(\"..........\")\n",
    "                self.current_user.watch_list[-1].watch()\n",
    "                \n",
    "\n",
    "    # run function to drive the program\n",
    "    def run(self):\n",
    "        \"\"\"\n",
    "        Method allowing users to sign in, choose a series, and play episodes\n",
    "        \"\"\"\n",
    "        display(Image(url = generic_image))\n",
    "\n",
    "        if self.users:\n",
    "            self.choose_user()\n",
    "        else:\n",
    "            self.add_user()\n",
    "\n",
    "            print(\"\"\"\n",
    "                What would you like to do?\n",
    "                Add - add a new user\n",
    "                Login - login to a user profile\n",
    "                Update - update user info\n",
    "                Logout - logout of your profile\n",
    "                Search - search for shows\n",
    "                Watch - pick something from your watchlist\n",
    "                View - view watchlist\n",
    "                Delete - delete from watchlist\n",
    "                Quit - close the application\n",
    "                \n",
    "            \"\"\")\n",
    "\n",
    "\n",
    "        while True:\n",
    "            response = input(\"What would you like to do? (add, update, login, logout, search, watch, view, delete, quit) \")\n",
    "            \n",
    "            if response.lower() == \"search\":\n",
    "                self.add_to_watchlist()\n",
    "            elif response.lower() == \"watch\":\n",
    "                self.choose_from_watchlist()\n",
    "            elif response.lower() == \"add\":\n",
    "                self.add_user()\n",
    "            elif response.lower() == 'logout':\n",
    "                self.logout()\n",
    "                new_response = input(\"What would you like to do next? login, add, quit\")\n",
    "                if new_response.lower() == 'add':\n",
    "                    self.add_user()\n",
    "                elif new_response.lower() == 'login':\n",
    "                    self.login_user()\n",
    "                elif new_response.lower() == 'quit':\n",
    "                    print(\"Thanks for watching!\")\n",
    "                    break\n",
    "                else:\n",
    "                    print(\"Please enter a valid response and try again!\")\n",
    "            elif response.lower() == 'login':\n",
    "                self.login_user()\n",
    "            elif response.lower() == \"update\":\n",
    "                self.update_user()\n",
    "                    \n",
    "                    \n",
    "            \n",
    "            elif response.lower() == \"view\":\n",
    "                self.view_watchlist()\n",
    "            elif response.lower() == \"delete\":\n",
    "                self.delete()\n",
    "            elif response.lower() == \"quit\":\n",
    "                print(f\"Thanks for watching! {self.current_user}! Now go outside!\")\n",
    "                break\n",
    "            else:\n",
    "                print(\"Invalid Input: please choose from the list!\")\n",
    "                \n"
   ]
  },
  {
   "cell_type": "code",
   "execution_count": 57,
   "metadata": {},
   "outputs": [],
   "source": [
    "codeflix = Theater()\n",
    "\n"
   ]
  },
  {
   "cell_type": "code",
   "execution_count": 58,
   "metadata": {},
   "outputs": [
    {
     "data": {
      "text/html": [
       "<img src=\"codeflix.png\"/>"
      ],
      "text/plain": [
       "<IPython.core.display.Image object>"
      ]
     },
     "metadata": {},
     "output_type": "display_data"
    },
    {
     "name": "stdin",
     "output_type": "stream",
     "text": [
      "Please enter a username:  mo\n",
      "Please enter your password.  123\n"
     ]
    },
    {
     "name": "stdout",
     "output_type": "stream",
     "text": [
      "\n",
      "        3 - Mo\n",
      "        pw: 31\n",
      "         has been created!!\n"
     ]
    },
    {
     "name": "stdin",
     "output_type": "stream",
     "text": [
      "What is your username?  mo\n",
      "What is your password?  123\n"
     ]
    },
    {
     "name": "stdout",
     "output_type": "stream",
     "text": [
      "\n",
      "        3 - Mo\n",
      "        pw: 31\n",
      "         has logged in!\n",
      "\n",
      "                What would you like to do?\n",
      "                Add - add a new user\n",
      "                Login - login to a user profile\n",
      "                Update - update user info\n",
      "                Logout - logout of your profile\n",
      "                Search - search for shows\n",
      "                Watch - pick something from your watchlist\n",
      "                View - view watchlist\n",
      "                Delete - delete from watchlist\n",
      "                Quit - close the application\n",
      "                \n",
      "            \n"
     ]
    },
    {
     "name": "stdin",
     "output_type": "stream",
     "text": [
      "What would you like to do? (add, update, login, logout, search, watch, view, delete, quit)  search\n",
      "What is the name of the series?  breaking bad\n"
     ]
    },
    {
     "name": "stdout",
     "output_type": "stream",
     "text": [
      "Breaking Bad has 62 episodes\n",
      "Breaking Bad has been added to the watchlist!\n"
     ]
    },
    {
     "name": "stdin",
     "output_type": "stream",
     "text": [
      "What would you like to do? (add, update, login, logout, search, watch, view, delete, quit)  watch\n"
     ]
    },
    {
     "name": "stdout",
     "output_type": "stream",
     "text": [
      "\n",
      "\n",
      "Title: Breaking Bad | Episodes: 62\n",
      "\n",
      "Summary: \n",
      " <p><b>Breaking Bad</b> follows protagonist Walter White, a chemistry teacher who lives in New Mexico with his wife and teenage son who has cerebral palsy. White is diagnosed with Stage III cancer and given a prognosis of two years left to live. With a new sense of fearlessness based on his medical prognosis, and a desire to secure his family's financial security, White chooses to enter a dangerous world of drugs and crime and ascends to power in this world. The series explores how a fatal diagnosis such as White's releases a typical man from the daily concerns and constraints of normal society and follows his transformation from mild family man to a kingpin of the drug trade.</p>\n"
     ]
    },
    {
     "data": {
      "text/html": [
       "<img src=\"https://static.tvmaze.com/uploads/images/medium_landscape/405/1012681.jpg\"/>"
      ],
      "text/plain": [
       "<IPython.core.display.Image object>"
      ]
     },
     "metadata": {},
     "output_type": "display_data"
    },
    {
     "name": "stdin",
     "output_type": "stream",
     "text": [
      "What would you like to watch?  breaking bad\n"
     ]
    },
    {
     "name": "stdout",
     "output_type": "stream",
     "text": [
      "Now playing Pilot\n"
     ]
    },
    {
     "data": {
      "text/html": [
       "<img src=\"https://static.tvmaze.com/uploads/images/medium_landscape/405/1012681.jpg\"/>"
      ],
      "text/plain": [
       "<IPython.core.display.Image object>"
      ]
     },
     "metadata": {},
     "output_type": "display_data"
    },
    {
     "name": "stdout",
     "output_type": "stream",
     "text": [
      "Now playing Cat's in the Bag...\n"
     ]
    },
    {
     "data": {
      "text/html": [
       "<img src=\"https://static.tvmaze.com/uploads/images/medium_landscape/405/1012682.jpg\"/>"
      ],
      "text/plain": [
       "<IPython.core.display.Image object>"
      ]
     },
     "metadata": {},
     "output_type": "display_data"
    },
    {
     "name": "stdout",
     "output_type": "stream",
     "text": [
      "Now playing ...and the Bag's in the River\n"
     ]
    },
    {
     "data": {
      "text/html": [
       "<img src=\"https://static.tvmaze.com/uploads/images/medium_landscape/405/1012683.jpg\"/>"
      ],
      "text/plain": [
       "<IPython.core.display.Image object>"
      ]
     },
     "metadata": {},
     "output_type": "display_data"
    },
    {
     "name": "stdin",
     "output_type": "stream",
     "text": [
      "Are you still watching?  n\n",
      "What would you like to do? (add, update, login, logout, search, watch, view, delete, quit)  quit\n"
     ]
    },
    {
     "name": "stdout",
     "output_type": "stream",
     "text": [
      "Thanks for watching! \n",
      "        3 - Mo\n",
      "        pw: 31\n",
      "        ! Now go outside!\n"
     ]
    }
   ],
   "source": [
    "codeflix.run()"
   ]
  },
  {
   "cell_type": "markdown",
   "metadata": {},
   "source": [
    "##  Exercise 1:\n",
    "Discuss what other classes, methods, or fields (attributes) we could make to improve our streaming service using these principles. <br> <br>\n",
    "Start making a few of them and see where it leads..."
   ]
  },
  {
   "cell_type": "code",
   "execution_count": null,
   "metadata": {},
   "outputs": [],
   "source": []
  }
 ],
 "metadata": {
  "kernelspec": {
   "display_name": "Python 3 (ipykernel)",
   "language": "python",
   "name": "python3"
  },
  "language_info": {
   "codemirror_mode": {
    "name": "ipython",
    "version": 3
   },
   "file_extension": ".py",
   "mimetype": "text/x-python",
   "name": "python",
   "nbconvert_exporter": "python",
   "pygments_lexer": "ipython3",
   "version": "3.12.0"
  }
 },
 "nbformat": 4,
 "nbformat_minor": 4
}
